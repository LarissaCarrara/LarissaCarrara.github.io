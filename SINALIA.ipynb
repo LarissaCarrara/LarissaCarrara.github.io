{
  "nbformat": 4,
  "nbformat_minor": 0,
  "metadata": {
    "colab": {
      "provenance": [],
      "authorship_tag": "ABX9TyOLlRISlmUP+EXX9iUDO0kJ",
      "include_colab_link": true
    },
    "kernelspec": {
      "name": "python3",
      "display_name": "Python 3"
    },
    "language_info": {
      "name": "python"
    }
  },
  "cells": [
    {
      "cell_type": "markdown",
      "metadata": {
        "id": "view-in-github",
        "colab_type": "text"
      },
      "source": [
        "<a href=\"https://colab.research.google.com/github/LarissaCarrara/LarissaCarrara.github.io/blob/main/SINALIA.ipynb\" target=\"_parent\"><img src=\"https://colab.research.google.com/assets/colab-badge.svg\" alt=\"Open In Colab\"/></a>"
      ]
    },
    {
      "cell_type": "code",
      "source": [
        "%pip -q install google-genai"
      ],
      "metadata": {
        "id": "9nboQkZA2Oke"
      },
      "execution_count": 3,
      "outputs": []
    },
    {
      "cell_type": "code",
      "source": [
        "# Configura a API Key do Google Gemini\n",
        "\n",
        "import os\n",
        "from google.colab import userdata\n",
        "\n",
        "os.environ[\"GOOGLE_API_KEY\"] = userdata.get('GOOGLE_API_KEY')"
      ],
      "metadata": {
        "id": "HPaCpKjE2UAl"
      },
      "execution_count": 4,
      "outputs": []
    },
    {
      "cell_type": "code",
      "source": [
        "# Instalar Framework de agentes do Google\n",
        "!pip install -q google-adk"
      ],
      "metadata": {
        "colab": {
          "base_uri": "https://localhost:8080/"
        },
        "id": "YHDNnPXn2dJI",
        "outputId": "6a67a7dd-0682-4a76-a83f-98b74be43f96"
      },
      "execution_count": 5,
      "outputs": [
        {
          "output_type": "stream",
          "name": "stdout",
          "text": [
            "\u001b[?25l   \u001b[90m━━━━━━━━━━━━━━━━━━━━━━━━━━━━━━━━━━━━━━━━\u001b[0m \u001b[32m0.0/1.2 MB\u001b[0m \u001b[31m?\u001b[0m eta \u001b[36m-:--:--\u001b[0m\r\u001b[2K   \u001b[91m━━━━━━━━━━━━━━━━━\u001b[0m\u001b[91m╸\u001b[0m\u001b[90m━━━━━━━━━━━━━━━━━━━━━━\u001b[0m \u001b[32m0.5/1.2 MB\u001b[0m \u001b[31m15.8 MB/s\u001b[0m eta \u001b[36m0:00:01\u001b[0m\r\u001b[2K   \u001b[90m━━━━━━━━━━━━━━━━━━━━━━━━━━━━━━━━━━━━━━━━\u001b[0m \u001b[32m1.2/1.2 MB\u001b[0m \u001b[31m19.0 MB/s\u001b[0m eta \u001b[36m0:00:00\u001b[0m\n",
            "\u001b[?25h\u001b[?25l   \u001b[90m━━━━━━━━━━━━━━━━━━━━━━━━━━━━━━━━━━━━━━━━\u001b[0m \u001b[32m0.0/232.1 kB\u001b[0m \u001b[31m?\u001b[0m eta \u001b[36m-:--:--\u001b[0m\r\u001b[2K   \u001b[90m━━━━━━━━━━━━━━━━━━━━━━━━━━━━━━━━━━━━━━━━\u001b[0m \u001b[32m232.1/232.1 kB\u001b[0m \u001b[31m16.4 MB/s\u001b[0m eta \u001b[36m0:00:00\u001b[0m\n",
            "\u001b[2K   \u001b[90m━━━━━━━━━━━━━━━━━━━━━━━━━━━━━━━━━━━━━━━━\u001b[0m \u001b[32m95.2/95.2 kB\u001b[0m \u001b[31m6.9 MB/s\u001b[0m eta \u001b[36m0:00:00\u001b[0m\n",
            "\u001b[2K   \u001b[90m━━━━━━━━━━━━━━━━━━━━━━━━━━━━━━━━━━━━━━━━\u001b[0m \u001b[32m217.1/217.1 kB\u001b[0m \u001b[31m15.7 MB/s\u001b[0m eta \u001b[36m0:00:00\u001b[0m\n",
            "\u001b[2K   \u001b[90m━━━━━━━━━━━━━━━━━━━━━━━━━━━━━━━━━━━━━━━━\u001b[0m \u001b[32m334.1/334.1 kB\u001b[0m \u001b[31m19.8 MB/s\u001b[0m eta \u001b[36m0:00:00\u001b[0m\n",
            "\u001b[2K   \u001b[90m━━━━━━━━━━━━━━━━━━━━━━━━━━━━━━━━━━━━━━━━\u001b[0m \u001b[32m125.1/125.1 kB\u001b[0m \u001b[31m9.3 MB/s\u001b[0m eta \u001b[36m0:00:00\u001b[0m\n",
            "\u001b[2K   \u001b[90m━━━━━━━━━━━━━━━━━━━━━━━━━━━━━━━━━━━━━━━━\u001b[0m \u001b[32m65.8/65.8 kB\u001b[0m \u001b[31m4.5 MB/s\u001b[0m eta \u001b[36m0:00:00\u001b[0m\n",
            "\u001b[2K   \u001b[90m━━━━━━━━━━━━━━━━━━━━━━━━━━━━━━━━━━━━━━━━\u001b[0m \u001b[32m119.0/119.0 kB\u001b[0m \u001b[31m7.9 MB/s\u001b[0m eta \u001b[36m0:00:00\u001b[0m\n",
            "\u001b[2K   \u001b[90m━━━━━━━━━━━━━━━━━━━━━━━━━━━━━━━━━━━━━━━━\u001b[0m \u001b[32m194.9/194.9 kB\u001b[0m \u001b[31m13.7 MB/s\u001b[0m eta \u001b[36m0:00:00\u001b[0m\n",
            "\u001b[2K   \u001b[90m━━━━━━━━━━━━━━━━━━━━━━━━━━━━━━━━━━━━━━━━\u001b[0m \u001b[32m62.5/62.5 kB\u001b[0m \u001b[31m4.3 MB/s\u001b[0m eta \u001b[36m0:00:00\u001b[0m\n",
            "\u001b[2K   \u001b[90m━━━━━━━━━━━━━━━━━━━━━━━━━━━━━━━━━━━━━━━━\u001b[0m \u001b[32m103.3/103.3 kB\u001b[0m \u001b[31m6.8 MB/s\u001b[0m eta \u001b[36m0:00:00\u001b[0m\n",
            "\u001b[2K   \u001b[90m━━━━━━━━━━━━━━━━━━━━━━━━━━━━━━━━━━━━━━━━\u001b[0m \u001b[32m44.4/44.4 kB\u001b[0m \u001b[31m2.8 MB/s\u001b[0m eta \u001b[36m0:00:00\u001b[0m\n",
            "\u001b[2K   \u001b[90m━━━━━━━━━━━━━━━━━━━━━━━━━━━━━━━━━━━━━━━━\u001b[0m \u001b[32m72.0/72.0 kB\u001b[0m \u001b[31m4.8 MB/s\u001b[0m eta \u001b[36m0:00:00\u001b[0m\n",
            "\u001b[?25h"
          ]
        }
      ]
    },
    {
      "cell_type": "code",
      "source": [
        "from google.adk.agents import Agent\n",
        "from google.adk.runners import Runner\n",
        "from google.adk.sessions import InMemorySessionService\n",
        "from google.adk.tools import google_search\n",
        "from google.genai import types  # Para criar conteúdos (Content e Part)\n",
        "from datetime import date\n",
        "import textwrap # Para formatar melhor a saída de texto\n",
        "from IPython.display import display, Markdown # Para exibir texto formatado no Colab\n",
        "import requests # Para fazer requisições HTTP\n",
        "import warnings\n",
        "\n",
        "warnings.filterwarnings(\"ignore\")"
      ],
      "metadata": {
        "id": "qXpsn0jS2rgC"
      },
      "execution_count": 6,
      "outputs": []
    },
    {
      "cell_type": "code",
      "source": [
        "# Função auxiliar que envia uma mensagem para um agente via Runner e retorna a resposta final\n",
        "def call_agent(agent: Agent, message_text: str) -> str:\n",
        "    # Cria um serviço de sessão em memória\n",
        "    session_service = InMemorySessionService()\n",
        "    # Cria uma nova sessão (você pode personalizar os IDs conforme necessário)\n",
        "    session = session_service.create_session(app_name=agent.name, user_id=\"user1\", session_id=\"session1\")\n",
        "    # Cria um Runner para o agente\n",
        "    runner = Runner(agent=agent, app_name=agent.name, session_service=session_service)\n",
        "    # Cria o conteúdo da mensagem de entrada\n",
        "    content = types.Content(role=\"user\", parts=[types.Part(text=message_text)])\n",
        "\n",
        "    final_response = \"\"\n",
        "    # Itera assincronamente pelos eventos retornados durante a execução do agente\n",
        "    for event in runner.run(user_id=\"user1\", session_id=\"session1\", new_message=content):\n",
        "        if event.is_final_response():\n",
        "          for part in event.content.parts:\n",
        "            if part.text is not None:\n",
        "              final_response += part.text\n",
        "              final_response += \"\\n\"\n",
        "    return final_response"
      ],
      "metadata": {
        "id": "z5fKWuIu2rQG"
      },
      "execution_count": 7,
      "outputs": []
    },
    {
      "cell_type": "code",
      "source": [
        "# Função auxiliar para exibir texto formatado em Markdown no Colab\n",
        "def to_markdown(text):\n",
        "  text = text.replace('•', '  *')\n",
        "  return Markdown(textwrap.indent(text, '> ', predicate=lambda _: True))"
      ],
      "metadata": {
        "id": "qWlprpgd3Lje"
      },
      "execution_count": 8,
      "outputs": []
    },
    {
      "cell_type": "code",
      "source": [
        "##########################################\n",
        "# --- Agente: Busca a distancia entre os endereços --- #\n",
        "##########################################\n",
        "def agente_buscador(frase):\n",
        "\n",
        "    buscador = Agent(\n",
        "        name=\"agente_buscador\",\n",
        "        model=\"gemini-2.0-flash\",\n",
        "        instruction=\"\"\"\n",
        "       Você é um **Guia de Libras**. Sua tarefa é **traduzir frases do português para Libras**, **explicar como fazer os gestos**, e **fornecer um link** para ver o sinal em ação.\n",
        "\n",
        "Use a ferramenta `Google Search` com esta estratégia:\n",
        "1.  **Primeiro, tente buscar o sinal em Libras para a frase COMPLETA** que o usuário pedir. Priorize resultados que ofereçam vídeos ou imagens claras de como fazer o sinal da frase.\n",
        "2.  **Se não encontrar o sinal para a frase completa**, então **quebre a frase em palavras-chave** e busque o sinal em Libras e um link para **CADA UMA DESSAS PALAVRAS**. Priorize vídeos ou imagens para cada palavra. Lembre-se que a estrutura da Libras pode ser diferente do português, então os sinais das palavras individuais são um ótimo ponto de partida.\n",
        "\n",
        "Sua resposta DEVE ser muito útil e incluir:\n",
        "* A **frase original** em português.\n",
        "* **SE o sinal da frase completa for encontrado:**\n",
        "    * Uma **descrição detalhada e clara de como fazer os gestos** do sinal da frase (movimentos, posição das mãos, expressão facial, etc.).\n",
        "    * **O link** para o vídeo válido e disponível ou imagem que mostra o sinal da frase.\n",
        "* **SE o sinal da frase completa NÃO for encontrado (e você buscar por palavras):**\n",
        "    * Informe que, como a frase inteira não foi encontrada, você fornecerá os sinais das palavras-chave.\n",
        "    * Para CADA palavra-chave encontrada, forneça:\n",
        "        * A **palavra original**.\n",
        "        * Uma **descrição clara de como fazer os gestos** do sinal daquela palavra.\n",
        "        * **O link** para o vídeo ou imagem que mostra o sinal daquela palavra.\n",
        "* **Se não encontrar nenhum link ou descrição clara (nem para a frase, nem para palavras) após todas as tentativas**, diga de forma educada que não foi possível encontrar um recurso visual específico e sugira buscar por um instrutor de Libras para um aprendizado mais aprofundado.\n",
        "        \"\"\",\n",
        "        description=\"A gente para analisar a distancia do trajeto\",\n",
        "        tools=[google_search]\n",
        "    )\n",
        "\n",
        "    entrada_do_agente_buscador = f\"Frase para passar para libras: {frase}\"\n",
        "\n",
        "    distancias = call_agent(buscador, entrada_do_agente_buscador)\n",
        "    return distancias"
      ],
      "metadata": {
        "id": "IsVaDL2t3SSf"
      },
      "execution_count": 37,
      "outputs": []
    },
    {
      "cell_type": "code",
      "source": [
        "aq = input(\"Qual palavra/frase você gostaria de aprender em libras?: \")\n",
        "result = agente_buscador(aq)\n",
        "print(\"\\n--- 📝 Resultado do Agente 1 (Buscador) ---\\n\")\n",
        "display(to_markdown(result))"
      ],
      "metadata": {
        "colab": {
          "base_uri": "https://localhost:8080/",
          "height": 393
        },
        "id": "IyegJbeCrWy4",
        "outputId": "533dd2e7-cbbd-440a-8505-44bd7ebdf9e5"
      },
      "execution_count": 41,
      "outputs": [
        {
          "output_type": "stream",
          "name": "stdout",
          "text": [
            "Qual palavra/frase você gostaria de aprender em libras?: oi, tudo bem?\n",
            "\n",
            "--- 📝 Resultado do Agente 1 (Buscador) ---\n",
            "\n"
          ]
        },
        {
          "output_type": "display_data",
          "data": {
            "text/plain": [
              "<IPython.core.display.Markdown object>"
            ],
            "text/markdown": "> Olá! Para te ajudar a traduzir \"Oi, tudo bem?\" para Libras, faremos o seguinte:\n> \n> \n> Como não encontrei um sinal único para toda a frase \"Oi, tudo bem?\", vou te mostrar como sinalizar cada parte:\n> \n> **1. Oi:**\n> \n> *   **Descrição:** Você pode usar o sinal da letra \"O\" e da letra \"I\" da Libras juntas em um movimento, ou simplesmente acenar com a mão, como um \"oi\" tradicional.\n> *   **Vídeo:** Veja este vídeo para aprender o sinal de \"Oi\" em Libras: [https://www.youtube.com/watch?v=J5VnzXBxLIA](https://www.youtube.com/watch?v=J5VnzXBxLIA) ou [https://www.youtube.com/watch?v=4ZMLFWkwrf8](https://www.youtube.com/watch?v=4ZMLFWkwrf8)\n> \n> **2. Tudo bem?:**\n> \n> *   **Descrição:** Faça o sinal de \"bom\" (mão espalmada, com a palma para cima, e movimento para frente a partir do queixo), seguido do sinal de \"joinha\" (polegar para cima). A expressão facial deve acompanhar, demonstrando que você está perguntando se a pessoa está bem.\n> *   **Vídeo:** Veja este vídeo para aprender o sinal de \"Tudo bem?\" em Libras: [https://www.youtube.com/watch?v=J5VnzXBxLIA](https://www.youtube.com/watch?v=J5VnzXBxLIA) ou [https://www.youtube.com/watch?v=EUyrmuJ1z0o](https://www.youtube.com/watch?v=EUyrmuJ1z0o)\n> \n> Lembre-se que a Libras é uma língua viso-espacial. Além dos sinais com as mãos, a expressão facial e o movimento do corpo são muito importantes para transmitir a mensagem corretamente.\n"
          },
          "metadata": {}
        }
      ]
    }
  ]
}